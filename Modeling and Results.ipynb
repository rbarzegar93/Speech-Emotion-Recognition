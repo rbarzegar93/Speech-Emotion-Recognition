{
 "cells": [
  {
   "cell_type": "markdown",
   "metadata": {},
   "source": [
    "## 3. Modeling and Results"
   ]
  },
  {
   "cell_type": "markdown",
   "metadata": {},
   "source": [
    "In this section I will take different approaches towards predicting the emotion of audio files using different machine learning algorithms."
   ]
  },
  {
   "cell_type": "markdown",
   "metadata": {},
   "source": [
    "Since my dataset has labels, all of the modelings are supervised learning algorithms.Also, since my target variable is a categorical variable, emotions, including 5 classes, the following modeling algorithms are for classification. "
   ]
  },
  {
   "cell_type": "code",
   "execution_count": 1,
   "metadata": {},
   "outputs": [],
   "source": [
    "import numpy as np\n",
    "import matplotlib.pyplot as plt\n",
    "from sklearn.preprocessing import StandardScaler\n",
    "from sklearn.metrics import classification_report, confusion_matrix, ConfusionMatrixDisplay\n",
    "from sklearn.neighbors import KNeighborsClassifier\n",
    "from sklearn.metrics import accuracy_score\n",
    "from sklearn.decomposition import PCA\n",
    "import tensorflow as tf\n",
    "from tensorflow import keras\n",
    "from keras.models import Sequential\n",
    "from tensorflow.keras import layers\n",
    "from keras.layers import Convolution2D, MaxPooling2D, Conv2D, Dense, Flatten, Dropout"
   ]
  },
  {
   "cell_type": "markdown",
   "metadata": {},
   "source": [
    "I will import the data from the EDA notebook."
   ]
  },
  {
   "cell_type": "code",
   "execution_count": 2,
   "metadata": {},
   "outputs": [],
   "source": [
    "# read the target variable for speech data:\n",
    "%store -r y_Sp\n",
    "%store -r target_Sp"
   ]
  },
  {
   "cell_type": "code",
   "execution_count": 3,
   "metadata": {},
   "outputs": [],
   "source": [
    "# read the features fo speech audio for CNN\n",
    "%store -r features_speech_CNN"
   ]
  },
  {
   "cell_type": "code",
   "execution_count": 4,
   "metadata": {},
   "outputs": [],
   "source": [
    "# read the flattened features fo speech audio \n",
    "%store -r features_speech_flat  "
   ]
  },
  {
   "cell_type": "code",
   "execution_count": 5,
   "metadata": {},
   "outputs": [],
   "source": [
    "# read the target variable for song data:\n",
    "%store -r y_So"
   ]
  },
  {
   "cell_type": "code",
   "execution_count": 6,
   "metadata": {},
   "outputs": [],
   "source": [
    "# read the flattened features fo song audio \n",
    "%store -r features_song_flat"
   ]
  },
  {
   "cell_type": "code",
   "execution_count": 7,
   "metadata": {},
   "outputs": [],
   "source": [
    "# read the CNN features fo song audio \n",
    "%store -r features_song_CNN"
   ]
  },
  {
   "cell_type": "markdown",
   "metadata": {},
   "source": [
    "Before going into scaling, I need to split my data into test, validation and train set. Since my dataset is not a big one, I decided to use a big percentage of data for training the model."
   ]
  },
  {
   "cell_type": "code",
   "execution_count": 8,
   "metadata": {},
   "outputs": [],
   "source": [
    "from sklearn.model_selection import train_test_split"
   ]
  },
  {
   "cell_type": "code",
   "execution_count": 9,
   "metadata": {},
   "outputs": [],
   "source": [
    "# doing train, test split for flattened features:\n",
    "\n",
    "X_train_flat_Sp, X_test_flat_Sp, y_train_flat_Sp, y_test_flat_Sp = train_test_split(features_speech_flat, target_Sp, test_size=0.1, random_state = 20, stratify = y_Sp)"
   ]
  },
  {
   "cell_type": "code",
   "execution_count": 10,
   "metadata": {},
   "outputs": [],
   "source": [
    "# splitting the validation, train set for flattened features:\n",
    "\n",
    "X_train_flat_Sp, X_val_flat_Sp, y_train_flat_Sp, y_val_flat_Sp = train_test_split(X_train_flat_Sp, y_train_flat_Sp, test_size=0.2, random_state = 20, stratify =y_train_flat_Sp )"
   ]
  },
  {
   "cell_type": "code",
   "execution_count": 11,
   "metadata": {},
   "outputs": [
    {
     "name": "stdout",
     "output_type": "stream",
     "text": [
      "(691, 384)\n",
      "(173, 384)\n",
      "(96, 384)\n"
     ]
    }
   ],
   "source": [
    "# printing the shape of flattened speech features:\n",
    "\n",
    "print(np.shape(X_train_flat_Sp))\n",
    "print(np.shape(X_val_flat_Sp))\n",
    "print(np.shape(X_test_flat_Sp))"
   ]
  },
  {
   "cell_type": "markdown",
   "metadata": {},
   "source": [
    "As we can see, our train set had 691 rows and 384 columns."
   ]
  },
  {
   "cell_type": "markdown",
   "metadata": {},
   "source": [
    "Now I should do the train, test split for CNN features:"
   ]
  },
  {
   "cell_type": "code",
   "execution_count": 12,
   "metadata": {},
   "outputs": [],
   "source": [
    "# doing train, test split for flattened features:\n",
    "\n",
    "X_train_CNN_Sp, X_test_CNN_Sp, y_train_CNN_Sp, y_test_CNN_Sp = train_test_split(features_speech_CNN, y_Sp, test_size=0.1, random_state = 20, stratify = y_Sp)"
   ]
  },
  {
   "cell_type": "code",
   "execution_count": 13,
   "metadata": {},
   "outputs": [],
   "source": [
    "# doing train, test split for flattened features:\n",
    "\n",
    "X_train_CNN_Sp, X_val_CNN_Sp, y_train_CNN_Sp, y_val_CNN_Sp = train_test_split(X_train_CNN_Sp, y_train_CNN_Sp, test_size=0.2, random_state = 20, stratify = y_train_CNN_Sp)"
   ]
  },
  {
   "cell_type": "code",
   "execution_count": 14,
   "metadata": {},
   "outputs": [
    {
     "name": "stdout",
     "output_type": "stream",
     "text": [
      "(691, 3, 128)\n",
      "(173, 3, 128)\n",
      "(96, 3, 128)\n"
     ]
    }
   ],
   "source": [
    "# printing the shape of flattened speech features:\n",
    "\n",
    "print(np.shape(X_train_CNN_Sp))\n",
    "print(np.shape(X_val_CNN_Sp))\n",
    "print(np.shape(X_test_CNN_Sp))"
   ]
  },
  {
   "cell_type": "markdown",
   "metadata": {},
   "source": [
    "The train set that is going to be fed into CNN model has 3 dimension as discussed in EDA notebook."
   ]
  },
  {
   "cell_type": "markdown",
   "metadata": {},
   "source": [
    "### 3.1 scaling data"
   ]
  },
  {
   "cell_type": "markdown",
   "metadata": {},
   "source": [
    "Now that our datasets are ready, we can scale them. Based on previous research, standard scaling has a better performance for audio data and is commonly used for this type of data."
   ]
  },
  {
   "cell_type": "markdown",
   "metadata": {},
   "source": [
    "In a draft notebook, I have also tried MinMax scaler and came to the same conclusion that standard scaler works better."
   ]
  },
  {
   "cell_type": "code",
   "execution_count": 15,
   "metadata": {},
   "outputs": [],
   "source": [
    "# scaling the flattened feature:\n",
    "ss = StandardScaler()\n",
    "\n",
    "\n",
    "X_train_flat_Sp_ss = ss.fit_transform(X_train_flat_Sp)\n",
    "X_val_flat_Sp_ss = ss.transform(X_val_flat_Sp)\n",
    "X_test_flat_Sp_ss = ss.transform(X_test_flat_Sp)"
   ]
  },
  {
   "cell_type": "code",
   "execution_count": 16,
   "metadata": {},
   "outputs": [],
   "source": [
    "# to have a container for scaled dataset:\n",
    "\n",
    "X_train_CNN_Sp_ss = X_train_CNN_Sp.copy()\n",
    "X_val_CNN_Sp_ss = X_val_CNN_Sp.copy()\n",
    "X_test_CNN_Sp_ss = X_test_CNN_Sp.copy()"
   ]
  },
  {
   "cell_type": "code",
   "execution_count": 17,
   "metadata": {},
   "outputs": [],
   "source": [
    "# scaling the CNN feature:\n",
    "\n",
    "ss_CNN = StandardScaler()\n",
    "for i in range (0,np.shape(X_train_CNN_Sp)[1]):\n",
    "\n",
    "\n",
    "    X_train_CNN_Sp_ss[i]=ss_CNN.fit_transform(X_train_CNN_Sp[i].T).T\n",
    "    X_val_CNN_Sp_ss[i] = ss_CNN.transform(X_val_CNN_Sp[i].T).T\n",
    "    X_test_CNN_Sp_ss[i] = ss_CNN.transform(X_test_CNN_Sp[i].T).T"
   ]
  },
  {
   "cell_type": "markdown",
   "metadata": {},
   "source": [
    "At this stage, the datasets are ready to be fed into modeling:"
   ]
  },
  {
   "cell_type": "markdown",
   "metadata": {},
   "source": [
    "### 3.2 Modeling"
   ]
  },
  {
   "cell_type": "markdown",
   "metadata": {},
   "source": [
    "#### 3.2.1 Logistic classification"
   ]
  },
  {
   "cell_type": "markdown",
   "metadata": {},
   "source": [
    "The logistic classification model (or logit model) is a classification model in which the conditional probability of one of the possible realizations of the output variable is assumed to be equal to a linear combination of the input variables, transformed by the logistic function."
   ]
  },
  {
   "cell_type": "code",
   "execution_count": 18,
   "metadata": {},
   "outputs": [],
   "source": [
    "from sklearn.linear_model import LogisticRegression\n",
    "\n",
    "C_range = np.array([.00000001,.0000001,.000001,.00001,.0001,.001,0.1, 0.2 ,0.5,\n",
    "                1,10,100,1000,10000,100000,1000000,10000000,100000000,1000000000])\n",
    "\n",
    "validation_scores_log = []\n",
    "train_scores_log = []\n",
    "\n",
    "for C in C_range:\n",
    "    # 1. Instantiate model\n",
    "    c_logit = LogisticRegression(C = C, random_state=1, max_iter=10000)\n",
    "\n",
    "    # 2. Fit model\n",
    "    c_logit.fit(X_train_flat_Sp_ss, y_train_flat_Sp);\n",
    "\n",
    "     # train on traning set\n",
    "    train_scores_log.append(c_logit.score(X_train_flat_Sp_ss, y_train_flat_Sp))\n",
    "    # score on validation set\n",
    "    validation_scores_log.append(c_logit.score(X_val_flat_Sp_ss,y_val_flat_Sp))"
   ]
  },
  {
   "cell_type": "code",
   "execution_count": 19,
   "metadata": {},
   "outputs": [
    {
     "data": {
      "image/png": "[encoded data removed]",
      "text/plain": [
       "<Figure size 432x288 with 1 Axes>"
      ]
     },
     "metadata": {
      "needs_background": "light"
     },
     "output_type": "display_data"
    }
   ],
   "source": [
    "plt.figure()\n",
    "plt.plot(C_range, train_scores_log,label=\"Train Score\",marker='.')\n",
    "plt.plot(C_range, validation_scores_log,label=\"Validation Scores\",marker='.')\n",
    "plt.xscale('log')\n",
    "plt.xlabel('C')\n",
    "plt.ylabel('Accuracy')\n",
    "plt.legend()\n",
    "plt.show();"
   ]
  },
  {
   "cell_type": "markdown",
   "metadata": {},
   "source": [
    "The graph above shows that C = 0.1 gives the better accuracy and values larger than that make the model overfit."
   ]
  },
  {
   "cell_type": "code",
   "execution_count": 58,
   "metadata": {},
   "outputs": [],
   "source": [
    "# Fitting the model with the optimum C value:\n",
    "\n",
    "    \n",
    "# 1. Instantiate model\n",
    "c_logit_opt = LogisticRegression(C = 0.2, random_state=10, max_iter=10000)\n",
    "\n",
    "# 2. Fit model\n",
    "c_logit_opt.fit(X_train_flat_Sp_ss, y_train_flat_Sp);"
   ]
  },
  {
   "cell_type": "code",
   "execution_count": 59,
   "metadata": {
    "scrolled": false
   },
   "outputs": [
    {
     "name": "stdout",
     "output_type": "stream",
     "text": [
      "Score on train: 0.9652677279305355\n",
      "Score on validation: 0.6358381502890174\n",
      "Score on test: 0.5625\n"
     ]
    }
   ],
   "source": [
    "print(f'Score on train: {c_logit_opt.score(X_train_flat_Sp_ss, y_train_flat_Sp)}')\n",
    "print(f'Score on validation: {c_logit_opt.score(X_val_flat_Sp_ss, y_val_flat_Sp)}')\n",
    "print(f'Score on test: {c_logit_opt.score(X_test_flat_Sp_ss, y_test_flat_Sp)}')"
   ]
  },
  {
   "cell_type": "code",
   "execution_count": 60,
   "metadata": {},
   "outputs": [],
   "source": [
    "from sklearn.metrics import confusion_matrix\n",
    "\n",
    "y_pred = c_logit_opt.predict(X_test_flat_Sp_ss)\n",
    "\n",
    "CM_log= confusion_matrix(y_test_flat_Sp, y_pred)"
   ]
  },
  {
   "cell_type": "code",
   "execution_count": 170,
   "metadata": {},
   "outputs": [
    {
     "data": {
      "image/png": "[encoded data removed]",
      "text/plain": [
       "<Figure size 720x720 with 2 Axes>"
      ]
     },
     "metadata": {
      "needs_background": "light"
     },
     "output_type": "display_data"
    }
   ],
   "source": [
    "disp = ConfusionMatrixDisplay(confusion_matrix=CM_log,\n",
    "                                  display_labels=['Angry', 'Calm', 'Fearful', 'Happy','Sad'])\n",
    "fig, ax = plt.subplots(figsize=(10, 10))\n",
    "ax.set_title('Confusion Matrix for Logistic Classification')    \n",
    "disp = disp.plot(xticks_rotation='vertical', ax=ax, cmap='BuGn')\n",
    "plt.show()"
   ]
  },
  {
   "cell_type": "markdown",
   "metadata": {},
   "source": [
    "Logistic Regression had a test accuracy of 56% which is still better than guessing. But it performed well on predicting Angry and Calm labels."
   ]
  },
  {
   "cell_type": "markdown",
   "metadata": {},
   "source": [
    "#### 3.2.2 K-Nearest Neighbors"
   ]
  },
  {
   "cell_type": "markdown",
   "metadata": {},
   "source": [
    "The KNN algorithm assumes that similar things exist in close proximity. An object is classified by a plurality vote of its neighbors, with the object being assigned to the class most common among its k nearest neighbors"
   ]
  },
  {
   "cell_type": "code",
   "execution_count": 62,
   "metadata": {},
   "outputs": [
    {
     "name": "stdout",
     "output_type": "stream",
     "text": [
      "Test set accuracy: 0.71875\n",
      "Test set accuracy: 0.65625\n",
      "Test set accuracy: 0.5416666666666666\n",
      "Test set accuracy: 0.5208333333333334\n",
      "Test set accuracy: 0.5208333333333334\n",
      "Test set accuracy: 0.4791666666666667\n",
      "Test set accuracy: 0.46875\n",
      "Test set accuracy: 0.4270833333333333\n",
      "Test set accuracy: 0.4479166666666667\n",
      "Test set accuracy: 0.4479166666666667\n"
     ]
    }
   ],
   "source": [
    "# Fitting the K-NN model:\n",
    "\n",
    "\n",
    "K_range = range(1,20,2) # have odd number of neighbors.\n",
    "for k in K_range:\n",
    "    \n",
    "# Instantiate the model & fit it to our data\n",
    "    KNN_model = KNeighborsClassifier(n_neighbors=k)\n",
    "    KNN_model.fit(X_train_flat_Sp_ss, y_train_flat_Sp)\n",
    "\n",
    "# Score the model on the test set\n",
    "    test_predictions = KNN_model.predict(X_test_flat_Sp_ss)\n",
    "    \n",
    "    \n",
    "    test_accuracy = accuracy_score(test_predictions, y_test_flat_Sp)\n",
    "    \n",
    "    \n",
    "   \n",
    "    print(f\"Test set accuracy: {test_accuracy}\")"
   ]
  },
  {
   "cell_type": "markdown",
   "metadata": {},
   "source": [
    "KNN had a better predicton compared to logistic classification. And the optimum number of neighbors is 3 with the test accuracy of 65%."
   ]
  },
  {
   "cell_type": "code",
   "execution_count": 66,
   "metadata": {},
   "outputs": [],
   "source": [
    "# fit the model with optimum K:\n",
    "\n",
    "KNN_model_opt = KNeighborsClassifier(n_neighbors=3)\n",
    "KNN_model_opt.fit(X_train_flat_Sp_ss, y_train_flat_Sp)\n",
    "\n"
   ]
  },
  {
   "cell_type": "code",
   "execution_count": 67,
   "metadata": {},
   "outputs": [],
   "source": [
    "# plot the confusion matrix:\n",
    "\n",
    "y_pred = KNN_model_opt.predict(X_test_flat_Sp_ss)\n",
    "\n",
    "CM_KNN= confusion_matrix(y_test_flat_Sp, y_pred)"
   ]
  },
  {
   "cell_type": "code",
   "execution_count": 120,
   "metadata": {},
   "outputs": [
    {
     "data": {
      "image/png": "[encoded data removed]",
      "text/plain": [
       "<Figure size 720x720 with 2 Axes>"
      ]
     },
     "metadata": {
      "needs_background": "light"
     },
     "output_type": "display_data"
    }
   ],
   "source": [
    "disp_K = ConfusionMatrixDisplay(confusion_matrix=CM_KNN,\n",
    "                                  display_labels=['Angry', 'Calm', 'Fearful', 'Happy','Sad'])\n",
    "fig, ax = plt.subplots(figsize=(10, 10))\n",
    "ax.set_title('Confusion Matrix ro KNN') \n",
    "\n",
    "disp = disp_K.plot(xticks_rotation='vertical', ax=ax, cmap='BuGn')\n",
    "plt.show()"
   ]
  },
  {
   "cell_type": "markdown",
   "metadata": {},
   "source": [
    "Although KNN had a better performance, it had a trouble picking the right labels for `Happy` and `Sad`. An interesting observation was that 21% of the time model labeled `Sad` audio file as `Angry`!\n",
    "KNN model seemed to have a better performance in predicting the right label for `Fearful` files. "
   ]
  },
  {
   "cell_type": "markdown",
   "metadata": {},
   "source": [
    "#### 3.2.3 Principal Component Analysis"
   ]
  },
  {
   "cell_type": "markdown",
   "metadata": {},
   "source": [
    "At this point, I want to see if PCA could improve the accuracy:"
   ]
  },
  {
   "cell_type": "code",
   "execution_count": 69,
   "metadata": {},
   "outputs": [],
   "source": [
    "# Build and fit a PCA model to the data\n",
    "\n",
    "# 1. Instantiate\n",
    "my_pca = PCA(n_components=50)\n",
    "\n",
    "# 2. Fit (mathematical calculations are made at this step) \n",
    "my_pca.fit(X_train_flat_Sp_ss)\n",
    "\n",
    "# 3. Transform\n",
    "X_train_flat_PCA = my_pca.transform(X_train_flat_Sp_ss)\n",
    "X_val_flat_PCA = my_pca.transform(X_val_flat_Sp_ss)\n",
    "X_test_flat_PCA = my_pca.transform(X_test_flat_Sp_ss)"
   ]
  },
  {
   "cell_type": "code",
   "execution_count": 70,
   "metadata": {},
   "outputs": [],
   "source": [
    "expl_var = my_pca.explained_variance_ratio_"
   ]
  },
  {
   "cell_type": "code",
   "execution_count": 71,
   "metadata": {},
   "outputs": [
    {
     "data": {
      "image/png": "[encoded data removed]",
      "text/plain": [
       "<Figure size 432x288 with 1 Axes>"
      ]
     },
     "metadata": {
      "needs_background": "light"
     },
     "output_type": "display_data"
    }
   ],
   "source": [
    "plt.figure()\n",
    "plt.plot(range(1,51),expl_var,marker='.')\n",
    "plt.xlabel('Number of PCs')\n",
    "plt.ylabel('Proportion of Variance Explained')\n",
    "plt.xticks(range(1,51,2), rotation = 90)\n",
    "plt.show()"
   ]
  },
  {
   "cell_type": "code",
   "execution_count": 72,
   "metadata": {},
   "outputs": [
    {
     "name": "stdout",
     "output_type": "stream",
     "text": [
      "0.871373512058898\n"
     ]
    }
   ],
   "source": [
    "expl_var_cumulative = my_pca.explained_variance_ratio_.cumsum()\n",
    "print(expl_var_cumulative[49])"
   ]
  },
  {
   "cell_type": "code",
   "execution_count": 73,
   "metadata": {},
   "outputs": [
    {
     "data": {
      "image/png": "[encoded data removed]",
      "text/plain": [
       "<Figure size 432x288 with 1 Axes>"
      ]
     },
     "metadata": {
      "needs_background": "light"
     },
     "output_type": "display_data"
    }
   ],
   "source": [
    "plt.figure()\n",
    "plt.plot(range(1, 51), expl_var_cumulative, marker='.')\n",
    "plt.xlabel('Number of PCs')\n",
    "plt.ylabel('Cumulative Proportion of Variance Explained')\n",
    "plt.xticks(range(1, 51, 2), rotation =90)\n",
    "plt.show()"
   ]
  },
  {
   "cell_type": "markdown",
   "metadata": {},
   "source": [
    "As we can see, 50-component PCA explains 87% of the dataset variance. Now I fit the logistic classification on the new dataset to see if it helped the predition ability of the model."
   ]
  },
  {
   "cell_type": "code",
   "execution_count": 80,
   "metadata": {},
   "outputs": [],
   "source": [
    "# Fitting the model with the optimum C value on reduced-dimension X:\n",
    "\n",
    "    \n",
    "# 1. Instantiate model\n",
    "c_logit_pca = LogisticRegression(C = 0.1, random_state=10, max_iter=10000)\n",
    "\n",
    "# 2. Fit model\n",
    "c_logit_pca.fit(X_train_flat_PCA , y_train_flat_Sp);"
   ]
  },
  {
   "cell_type": "code",
   "execution_count": 81,
   "metadata": {},
   "outputs": [
    {
     "name": "stdout",
     "output_type": "stream",
     "text": [
      "Score on train: 0.6396526772793053\n",
      "Score on validation: 0.5202312138728323\n",
      "Score on test: 0.4479166666666667\n"
     ]
    }
   ],
   "source": [
    "print(f'Score on train: {c_logit_pca.score(X_train_flat_PCA, y_train_flat_Sp)}')\n",
    "print(f'Score on validation: {c_logit_pca.score(X_val_flat_PCA, y_val_flat_Sp)}')\n",
    "print(f'Score on test: {c_logit_pca.score(X_test_flat_PCA, y_test_flat_Sp)}')"
   ]
  },
  {
   "cell_type": "markdown",
   "metadata": {},
   "source": [
    "PCA did not help the model performnace and I decided to continue with the original dataset."
   ]
  },
  {
   "cell_type": "markdown",
   "metadata": {},
   "source": [
    "#### 3.2.4 Support Vectors Classifier"
   ]
  },
  {
   "cell_type": "markdown",
   "metadata": {},
   "source": [
    "Support Vectors Classifier tries to find the best hyperplane to separate the different classes by maximizing the distance between sample points and the hyperplane."
   ]
  },
  {
   "cell_type": "code",
   "execution_count": 112,
   "metadata": {},
   "outputs": [],
   "source": [
    "#tunning the C parameter for svm:\n",
    "\n",
    "from sklearn.svm import SVC\n",
    "\n",
    "SVM_train_accuracy = []\n",
    "SVM_validation_accuracy = [] \n",
    "C_Range = [0.001, 0.01, 0.1, 1,3 ,5, 8, 10, 100]\n",
    "\n",
    "for c in C_Range:\n",
    "    #Fit the kernel SVM\n",
    "    kernel_SVM = SVC(random_state = 20, C = c)\n",
    "    kernel_SVM.fit(X_train_flat_Sp_ss, y_train_flat_Sp)\n",
    "    \n",
    "    SVM_train_accuracy.append(kernel_SVM.score(X_train_flat_Sp_ss, y_train_flat_Sp))\n",
    "    SVM_validation_accuracy.append(kernel_SVM.score(X_val_flat_Sp_ss, y_val_flat_Sp))\n"
   ]
  },
  {
   "cell_type": "code",
   "execution_count": 113,
   "metadata": {
    "scrolled": true
   },
   "outputs": [
    {
     "data": {
      "image/png": "[encoded data removed]",
      "text/plain": [
       "<Figure size 432x288 with 1 Axes>"
      ]
     },
     "metadata": {
      "needs_background": "light"
     },
     "output_type": "display_data"
    }
   ],
   "source": [
    "plt.figure()\n",
    "plt.plot(C_Range, SVM_train_accuracy, label=\"Train Score\", marker='.')\n",
    "plt.plot(C_Range, SVM_validation_accuracy, label=\"Validation Scores\", marker='.')\n",
    "plt.xscale('log')\n",
    "plt.xlabel('C')\n",
    "plt.ylabel('Accuracy')\n",
    "plt.legend()\n",
    "plt.show();"
   ]
  },
  {
   "cell_type": "markdown",
   "metadata": {},
   "source": [
    "According to the graph above, optimum value for C is 5. Now I will fit the SVM with the optimum C value and get confusion matrix:"
   ]
  },
  {
   "cell_type": "code",
   "execution_count": 110,
   "metadata": {},
   "outputs": [
    {
     "name": "stdout",
     "output_type": "stream",
     "text": [
      "Kernel SVM score (train): 0.9985528219971056\n",
      "Kernel SVM score (validation): 0.7225433526011561\n",
      "Kernel SVM score (test): 0.6875\n"
     ]
    }
   ],
   "source": [
    "# fit the SVM with optimum C:\n",
    "\n",
    "kernel_SVM_opt = SVC(random_state = 20, C = 5)\n",
    "kernel_SVM_opt.fit(X_train_flat_Sp_ss, y_train_flat_Sp)\n",
    "    \n",
    "print(f\"Kernel SVM score (train): {kernel_SVM_opt.score(X_train_flat_Sp_ss, y_train_flat_Sp)}\")\n",
    "print(f\"Kernel SVM score (validation): {kernel_SVM_opt.score(X_val_flat_Sp_ss, y_val_flat_Sp)}\")\n",
    "print(f\"Kernel SVM score (test): {kernel_SVM_opt.score(X_test_flat_Sp_ss, y_test_flat_Sp)}\")"
   ]
  },
  {
   "cell_type": "markdown",
   "metadata": {},
   "source": [
    "Among the models that I have tried till now, SVM seemed to have the best performance with the accuracy of 68%."
   ]
  },
  {
   "cell_type": "code",
   "execution_count": 114,
   "metadata": {},
   "outputs": [],
   "source": [
    "y_pred_SVM = kernel_SVM_opt.predict(X_test_flat_Sp_ss)\n",
    "\n",
    "CM_SVM= confusion_matrix(y_test_flat_Sp, y_pred_SVM)"
   ]
  },
  {
   "cell_type": "code",
   "execution_count": 121,
   "metadata": {},
   "outputs": [
    {
     "data": {
      "image/png": "[encoded data removed]",
      "text/plain": [
       "<Figure size 720x720 with 2 Axes>"
      ]
     },
     "metadata": {
      "needs_background": "light"
     },
     "output_type": "display_data"
    }
   ],
   "source": [
    "# Plotting the confusion matrix:\n",
    "\n",
    "disp_SVM = ConfusionMatrixDisplay(confusion_matrix=CM_SVM,\n",
    "                                  display_labels=['Angry', 'Calm', 'Fearful', 'Happy','Sad'])\n",
    "fig, ax = plt.subplots(figsize=(10, 10))\n",
    "ax.set_title('Confusion Matrix ro SVM')    \n",
    "disp = disp_SVM.plot(xticks_rotation='vertical', ax=ax, cmap='BuGn')\n",
    "plt.show()"
   ]
  },
  {
   "cell_type": "markdown",
   "metadata": {},
   "source": [
    "Based on the SVM confusion matrix, SVM had a better prection for all of the emotions except `Fearful`. "
   ]
  },
  {
   "cell_type": "markdown",
   "metadata": {},
   "source": [
    "#### 3.2.5 Decision Tree"
   ]
  },
  {
   "cell_type": "markdown",
   "metadata": {},
   "source": [
    "Since my problem is a classification, I wanted to see how a decision tree would perform on predicting the target variable. The Decision Tree is built through a process known as binary recursive partitioning. This is an iterative process of splitting the data into partitions, and then splitting it up further on each of the branches"
   ]
  },
  {
   "cell_type": "code",
   "execution_count": 125,
   "metadata": {},
   "outputs": [],
   "source": [
    "from sklearn.tree import DecisionTreeClassifier"
   ]
  },
  {
   "cell_type": "code",
   "execution_count": 140,
   "metadata": {},
   "outputs": [
    {
     "name": "stdout",
     "output_type": "stream",
     "text": [
      "The Train classification accuracy is:  0.8133140376266281\n",
      "The validation classification accuracy is:  0.4624277456647399\n"
     ]
    }
   ],
   "source": [
    "\n",
    "# Instantiate the decision stump and fit the model with optimum max_depth:\n",
    "\n",
    "DT_model = DecisionTreeClassifier(max_depth=7, random_state =1)\n",
    "DT_model.fit(X_train_flat_Sp_ss, y_train_flat_Sp)\n",
    "\n",
    "print(f\"The Train classification accuracy is:  {DT_model.score(X_train_flat_Sp_ss,y_train_flat_Sp)}\")\n",
    "print(f\"The validation classification accuracy is:  {DT_model.score(X_val_flat_Sp_ss,y_val_flat_Sp)}\")"
   ]
  },
  {
   "cell_type": "markdown",
   "metadata": {},
   "source": [
    "As we can see, the decision tree does not perform as well as others."
   ]
  },
  {
   "cell_type": "markdown",
   "metadata": {},
   "source": [
    "#### 3.2.6 Convolutional Neural Network"
   ]
  },
  {
   "cell_type": "markdown",
   "metadata": {},
   "source": [
    "CNN is a class of deep neural networks that is commonly applied to analyzing visual data. As mentioned in introduction part, most of the features that I have used for modeling are image-based features. The difference in the results are due to adding `sratify = y` argument to train test split."
   ]
  },
  {
   "cell_type": "markdown",
   "metadata": {},
   "source": [
    "In order to feed the X values into the CNN Model, the input shape has to have the (height, width, depth) format. The data have a height of 1, width of 128 (number of each feature), depth of 3 (number of features). Therefore, I needed to add a dimension, height, to my input."
   ]
  },
  {
   "cell_type": "code",
   "execution_count": 33,
   "metadata": {},
   "outputs": [],
   "source": [
    "# reshape the dataset to feed to CNN:\n",
    "\n",
    "X_train_new = np.expand_dims(np.moveaxis(np.array(X_train_CNN_Sp_ss), 1, 2), 1)\n",
    "X_val_new = np.expand_dims(np.moveaxis(np.array(X_val_CNN_Sp_ss), 1, 2), 1)\n",
    "X_test_new = np.expand_dims(np.moveaxis(np.array(X_test_CNN_Sp_ss), 1, 2), 1)"
   ]
  },
  {
   "cell_type": "code",
   "execution_count": 34,
   "metadata": {},
   "outputs": [
    {
     "data": {
      "text/plain": [
       "(691, 1, 128, 3)"
      ]
     },
     "execution_count": 34,
     "metadata": {},
     "output_type": "execute_result"
    }
   ],
   "source": [
    "np.shape(X_train_new)"
   ]
  },
  {
   "cell_type": "code",
   "execution_count": 35,
   "metadata": {},
   "outputs": [],
   "source": [
    "\n",
    "model = Sequential()\n",
    "\n",
    "model.add(Conv2D(filters=32, kernel_size=(1, 3), activation='relu', input_shape=( 1,128,3)))\n",
    "model.add(Conv2D(filters=32, kernel_size=(1, 3), activation='relu', input_shape=( 1,128,3)))\n",
    "model.add(MaxPooling2D(pool_size=(2, 2), padding = 'same'))\n",
    "\n",
    "model.add(Conv2D(filters=64, kernel_size=(1, 3), padding='same',activation='relu'))\n",
    "model.add(MaxPooling2D(pool_size=(2, 2), padding='same'))\n",
    "model.add(Dropout(0.1))\n",
    "\n",
    "model.add(Conv2D(filters=64, kernel_size=(1, 3),padding='same', activation='relu'))\n",
    "model.add(MaxPooling2D(pool_size=(2, 2), padding='same'))\n",
    "model.add(Dropout(0.25))\n",
    "\n",
    "#model.add(Conv2D(filters=128, kernel_size=(1, 3), padding='same',activation='relu'))\n",
    "#model.add(MaxPooling2D(pool_size=(2, 2), padding='same'))\n",
    "#model.add(Dropout(0.5))\n",
    "\n",
    "model.add(Conv2D(filters=128, kernel_size=(1, 3), padding='same',activation='relu'))\n",
    "#model_s.add(MaxPooling2D(pool_size=(2, 2), padding='same'))\n",
    "\n",
    "\n",
    "\n",
    "\n",
    "model.add(Flatten())\n",
    "model.add(Dense(64, activation='relu'))\n",
    "model.add(Dropout(0.2))\n",
    "\n",
    "model.add(Dense(32, activation='relu'))\n",
    "#model.add(Dropout(0.5))\n",
    "\n",
    "model.add(Dense(5, activation='softmax'))"
   ]
  },
  {
   "cell_type": "code",
   "execution_count": 36,
   "metadata": {},
   "outputs": [],
   "source": [
    "model.compile(loss='categorical_crossentropy',\n",
    "                  optimizer='adam',\n",
    "                  metrics=['accuracy'])"
   ]
  },
  {
   "cell_type": "code",
   "execution_count": 37,
   "metadata": {},
   "outputs": [
    {
     "name": "stdout",
     "output_type": "stream",
     "text": [
      "Epoch 1/100\n",
      "35/35 [==============================] - 0s 12ms/step - loss: 1.5877 - accuracy: 0.2402 - val_loss: 1.5095 - val_accuracy: 0.2948\n",
      "Epoch 2/100\n",
      "35/35 [==============================] - 0s 8ms/step - loss: 1.4783 - accuracy: 0.3256 - val_loss: 1.4335 - val_accuracy: 0.3873\n",
      "Epoch 3/100\n",
      "35/35 [==============================] - 0s 8ms/step - loss: 1.4235 - accuracy: 0.3719 - val_loss: 1.3939 - val_accuracy: 0.3931\n",
      "Epoch 4/100\n",
      "35/35 [==============================] - 0s 7ms/step - loss: 1.3477 - accuracy: 0.4052 - val_loss: 1.3342 - val_accuracy: 0.4335\n",
      "Epoch 5/100\n",
      "35/35 [==============================] - 0s 7ms/step - loss: 1.3197 - accuracy: 0.4457 - val_loss: 1.3739 - val_accuracy: 0.3815\n",
      "Epoch 6/100\n",
      "35/35 [==============================] - 0s 8ms/step - loss: 1.2676 - accuracy: 0.4544 - val_loss: 1.2156 - val_accuracy: 0.5260\n",
      "Epoch 7/100\n",
      "35/35 [==============================] - 0s 8ms/step - loss: 1.1522 - accuracy: 0.5297 - val_loss: 1.1635 - val_accuracy: 0.5318\n",
      "Epoch 8/100\n",
      "35/35 [==============================] - 0s 8ms/step - loss: 1.1406 - accuracy: 0.5224 - val_loss: 1.1642 - val_accuracy: 0.5087\n",
      "Epoch 9/100\n",
      "35/35 [==============================] - 0s 8ms/step - loss: 1.1069 - accuracy: 0.5485 - val_loss: 1.1382 - val_accuracy: 0.5376\n",
      "Epoch 10/100\n",
      "35/35 [==============================] - 0s 8ms/step - loss: 1.0263 - accuracy: 0.5601 - val_loss: 1.1387 - val_accuracy: 0.5780\n",
      "Epoch 11/100\n",
      "35/35 [==============================] - 0s 8ms/step - loss: 0.9738 - accuracy: 0.6006 - val_loss: 1.1069 - val_accuracy: 0.5376\n",
      "Epoch 12/100\n",
      "35/35 [==============================] - 0s 8ms/step - loss: 0.9341 - accuracy: 0.6049 - val_loss: 1.0369 - val_accuracy: 0.5434\n",
      "Epoch 13/100\n",
      "35/35 [==============================] - 0s 8ms/step - loss: 0.9076 - accuracy: 0.6266 - val_loss: 1.0252 - val_accuracy: 0.6012\n",
      "Epoch 14/100\n",
      "35/35 [==============================] - 0s 9ms/step - loss: 0.8137 - accuracy: 0.6657 - val_loss: 1.0089 - val_accuracy: 0.6012\n",
      "Epoch 15/100\n",
      "35/35 [==============================] - 0s 8ms/step - loss: 0.8137 - accuracy: 0.6643 - val_loss: 1.0470 - val_accuracy: 0.5549\n",
      "Epoch 16/100\n",
      "35/35 [==============================] - 0s 7ms/step - loss: 0.7682 - accuracy: 0.6932 - val_loss: 1.0183 - val_accuracy: 0.6012\n",
      "Epoch 17/100\n",
      "35/35 [==============================] - 0s 7ms/step - loss: 0.7370 - accuracy: 0.6990 - val_loss: 1.0254 - val_accuracy: 0.6185\n",
      "Epoch 18/100\n",
      "35/35 [==============================] - 0s 7ms/step - loss: 0.6845 - accuracy: 0.7294 - val_loss: 0.9439 - val_accuracy: 0.5954\n",
      "Epoch 19/100\n",
      "35/35 [==============================] - 0s 7ms/step - loss: 0.6227 - accuracy: 0.7496 - val_loss: 1.0168 - val_accuracy: 0.6012\n",
      "Epoch 20/100\n",
      "35/35 [==============================] - 0s 8ms/step - loss: 0.6161 - accuracy: 0.7641 - val_loss: 0.9415 - val_accuracy: 0.6647\n",
      "Epoch 21/100\n",
      "35/35 [==============================] - 0s 9ms/step - loss: 0.5301 - accuracy: 0.7887 - val_loss: 1.0997 - val_accuracy: 0.5954\n",
      "Epoch 22/100\n",
      "35/35 [==============================] - 0s 8ms/step - loss: 0.5206 - accuracy: 0.7902 - val_loss: 0.9567 - val_accuracy: 0.6358\n",
      "Epoch 23/100\n",
      "35/35 [==============================] - 0s 8ms/step - loss: 0.4878 - accuracy: 0.8234 - val_loss: 1.0255 - val_accuracy: 0.6301\n",
      "Epoch 24/100\n",
      "35/35 [==============================] - 0s 8ms/step - loss: 0.5151 - accuracy: 0.7844 - val_loss: 0.9271 - val_accuracy: 0.6474\n",
      "Epoch 25/100\n",
      "35/35 [==============================] - 0s 8ms/step - loss: 0.4395 - accuracy: 0.8379 - val_loss: 0.9687 - val_accuracy: 0.6358\n",
      "Epoch 26/100\n",
      "35/35 [==============================] - 0s 9ms/step - loss: 0.3837 - accuracy: 0.8611 - val_loss: 0.9667 - val_accuracy: 0.6647\n",
      "Epoch 27/100\n",
      "35/35 [==============================] - 0s 9ms/step - loss: 0.3677 - accuracy: 0.8582 - val_loss: 1.0870 - val_accuracy: 0.6301\n",
      "Epoch 28/100\n",
      "35/35 [==============================] - 0s 10ms/step - loss: 0.4240 - accuracy: 0.8466 - val_loss: 0.9820 - val_accuracy: 0.6532\n",
      "Epoch 29/100\n",
      "35/35 [==============================] - 0s 9ms/step - loss: 0.3515 - accuracy: 0.8712 - val_loss: 0.9378 - val_accuracy: 0.6705\n",
      "Epoch 30/100\n",
      "35/35 [==============================] - 0s 8ms/step - loss: 0.3458 - accuracy: 0.8611 - val_loss: 1.0725 - val_accuracy: 0.6474\n",
      "Epoch 31/100\n",
      "35/35 [==============================] - 0s 8ms/step - loss: 0.2947 - accuracy: 0.8871 - val_loss: 1.1998 - val_accuracy: 0.6069\n",
      "Epoch 32/100\n",
      "35/35 [==============================] - 0s 8ms/step - loss: 0.3153 - accuracy: 0.8871 - val_loss: 1.0302 - val_accuracy: 0.6243\n",
      "Epoch 33/100\n",
      "35/35 [==============================] - 0s 8ms/step - loss: 0.2146 - accuracy: 0.9276 - val_loss: 1.0695 - val_accuracy: 0.6647\n",
      "Epoch 34/100\n",
      "35/35 [==============================] - 0s 8ms/step - loss: 0.2402 - accuracy: 0.9030 - val_loss: 1.0290 - val_accuracy: 0.6358\n",
      "Epoch 35/100\n",
      "35/35 [==============================] - 0s 8ms/step - loss: 0.2447 - accuracy: 0.8973 - val_loss: 1.2564 - val_accuracy: 0.6647\n",
      "Epoch 36/100\n",
      "35/35 [==============================] - 0s 10ms/step - loss: 0.2577 - accuracy: 0.9146 - val_loss: 1.1498 - val_accuracy: 0.6763\n",
      "Epoch 37/100\n",
      "35/35 [==============================] - 0s 11ms/step - loss: 0.2342 - accuracy: 0.8987 - val_loss: 0.9548 - val_accuracy: 0.6879\n",
      "Epoch 38/100\n",
      "35/35 [==============================] - 0s 8ms/step - loss: 0.1774 - accuracy: 0.9378 - val_loss: 1.0005 - val_accuracy: 0.6936\n",
      "Epoch 39/100\n",
      "35/35 [==============================] - 0s 8ms/step - loss: 0.1475 - accuracy: 0.9508 - val_loss: 1.0893 - val_accuracy: 0.6936\n",
      "Epoch 40/100\n",
      "35/35 [==============================] - 0s 8ms/step - loss: 0.1637 - accuracy: 0.9450 - val_loss: 1.0109 - val_accuracy: 0.7283\n",
      "Epoch 41/100\n",
      "35/35 [==============================] - 0s 8ms/step - loss: 0.1538 - accuracy: 0.9508 - val_loss: 1.1723 - val_accuracy: 0.6243\n",
      "Epoch 42/100\n",
      "35/35 [==============================] - 0s 8ms/step - loss: 0.2415 - accuracy: 0.9103 - val_loss: 1.0544 - val_accuracy: 0.6532\n",
      "Epoch 43/100\n",
      "35/35 [==============================] - 0s 8ms/step - loss: 0.1685 - accuracy: 0.9392 - val_loss: 1.1714 - val_accuracy: 0.6590\n",
      "Epoch 44/100\n",
      "35/35 [==============================] - 0s 8ms/step - loss: 0.1672 - accuracy: 0.9349 - val_loss: 0.9742 - val_accuracy: 0.6763\n",
      "Epoch 45/100\n",
      "35/35 [==============================] - 0s 10ms/step - loss: 0.1154 - accuracy: 0.9566 - val_loss: 1.1281 - val_accuracy: 0.6590\n",
      "Epoch 46/100\n",
      "35/35 [==============================] - 0s 11ms/step - loss: 0.1308 - accuracy: 0.9407 - val_loss: 1.2708 - val_accuracy: 0.6416\n",
      "Epoch 47/100\n",
      "35/35 [==============================] - 0s 11ms/step - loss: 0.1281 - accuracy: 0.9551 - val_loss: 1.3066 - val_accuracy: 0.6705\n",
      "Epoch 48/100\n",
      "35/35 [==============================] - 0s 9ms/step - loss: 0.1371 - accuracy: 0.9551 - val_loss: 1.1790 - val_accuracy: 0.6647\n",
      "Epoch 49/100\n",
      "35/35 [==============================] - 0s 10ms/step - loss: 0.1970 - accuracy: 0.9493 - val_loss: 1.1452 - val_accuracy: 0.6358\n",
      "Epoch 50/100\n",
      "35/35 [==============================] - 0s 9ms/step - loss: 0.1171 - accuracy: 0.9609 - val_loss: 1.3479 - val_accuracy: 0.6647\n",
      "Epoch 51/100\n",
      "35/35 [==============================] - 0s 11ms/step - loss: 0.1589 - accuracy: 0.9465 - val_loss: 1.3948 - val_accuracy: 0.6358\n",
      "Epoch 52/100\n",
      "35/35 [==============================] - 0s 10ms/step - loss: 0.1549 - accuracy: 0.9493 - val_loss: 1.2867 - val_accuracy: 0.6416\n",
      "Epoch 53/100\n",
      "35/35 [==============================] - 0s 10ms/step - loss: 0.1208 - accuracy: 0.9682 - val_loss: 1.1393 - val_accuracy: 0.6936\n",
      "Epoch 54/100\n",
      "35/35 [==============================] - 0s 8ms/step - loss: 0.0974 - accuracy: 0.9768 - val_loss: 1.1610 - val_accuracy: 0.7283\n",
      "Epoch 55/100\n",
      "35/35 [==============================] - 0s 10ms/step - loss: 0.0972 - accuracy: 0.9696 - val_loss: 1.3050 - val_accuracy: 0.6821\n",
      "Epoch 56/100\n",
      "35/35 [==============================] - 0s 10ms/step - loss: 0.0999 - accuracy: 0.9595 - val_loss: 1.1946 - val_accuracy: 0.7168\n",
      "Epoch 57/100\n",
      "35/35 [==============================] - 0s 9ms/step - loss: 0.0980 - accuracy: 0.9696 - val_loss: 1.1709 - val_accuracy: 0.6705\n",
      "Epoch 58/100\n",
      "35/35 [==============================] - 0s 12ms/step - loss: 0.0652 - accuracy: 0.9783 - val_loss: 1.1910 - val_accuracy: 0.6821\n",
      "Epoch 59/100\n",
      "35/35 [==============================] - 0s 10ms/step - loss: 0.0836 - accuracy: 0.9711 - val_loss: 1.1751 - val_accuracy: 0.6821\n",
      "Epoch 60/100\n",
      "35/35 [==============================] - 0s 8ms/step - loss: 0.0727 - accuracy: 0.9740 - val_loss: 1.2579 - val_accuracy: 0.6532\n",
      "Epoch 61/100\n",
      "35/35 [==============================] - 0s 8ms/step - loss: 0.0952 - accuracy: 0.9725 - val_loss: 1.1482 - val_accuracy: 0.6936\n",
      "Epoch 62/100\n",
      "35/35 [==============================] - 0s 8ms/step - loss: 0.1167 - accuracy: 0.9653 - val_loss: 1.1860 - val_accuracy: 0.6647\n",
      "Epoch 63/100\n",
      "35/35 [==============================] - 0s 8ms/step - loss: 0.1135 - accuracy: 0.9595 - val_loss: 1.1221 - val_accuracy: 0.6474\n",
      "Epoch 64/100\n",
      "35/35 [==============================] - 0s 8ms/step - loss: 0.0931 - accuracy: 0.9653 - val_loss: 1.1617 - val_accuracy: 0.6243\n",
      "Epoch 65/100\n",
      "35/35 [==============================] - 0s 8ms/step - loss: 0.0567 - accuracy: 0.9826 - val_loss: 1.2953 - val_accuracy: 0.6647\n",
      "Epoch 66/100\n",
      "35/35 [==============================] - 0s 8ms/step - loss: 0.0658 - accuracy: 0.9725 - val_loss: 1.2910 - val_accuracy: 0.6936\n",
      "Epoch 67/100\n",
      "35/35 [==============================] - 0s 7ms/step - loss: 0.0811 - accuracy: 0.9696 - val_loss: 1.5691 - val_accuracy: 0.6532\n",
      "Epoch 68/100\n",
      "35/35 [==============================] - 0s 7ms/step - loss: 0.0916 - accuracy: 0.9740 - val_loss: 1.2265 - val_accuracy: 0.7110\n",
      "Epoch 69/100\n",
      "35/35 [==============================] - 0s 8ms/step - loss: 0.0967 - accuracy: 0.9754 - val_loss: 1.2007 - val_accuracy: 0.6763\n",
      "Epoch 70/100\n",
      "35/35 [==============================] - 0s 8ms/step - loss: 0.0763 - accuracy: 0.9768 - val_loss: 1.2084 - val_accuracy: 0.6705\n",
      "Epoch 71/100\n",
      "35/35 [==============================] - 0s 8ms/step - loss: 0.0587 - accuracy: 0.9783 - val_loss: 1.4795 - val_accuracy: 0.6243\n",
      "Epoch 72/100\n",
      "35/35 [==============================] - 0s 8ms/step - loss: 0.0370 - accuracy: 0.9913 - val_loss: 1.2692 - val_accuracy: 0.6879\n",
      "Epoch 73/100\n",
      "35/35 [==============================] - 0s 8ms/step - loss: 0.0587 - accuracy: 0.9797 - val_loss: 1.2056 - val_accuracy: 0.6994\n",
      "Epoch 74/100\n",
      "35/35 [==============================] - 0s 8ms/step - loss: 0.0565 - accuracy: 0.9783 - val_loss: 1.2412 - val_accuracy: 0.6879\n",
      "Epoch 75/100\n",
      "35/35 [==============================] - 0s 8ms/step - loss: 0.0561 - accuracy: 0.9797 - val_loss: 1.4035 - val_accuracy: 0.7225\n",
      "Epoch 76/100\n",
      "35/35 [==============================] - 0s 8ms/step - loss: 0.0557 - accuracy: 0.9841 - val_loss: 1.5372 - val_accuracy: 0.6879\n",
      "Epoch 77/100\n",
      "35/35 [==============================] - 0s 8ms/step - loss: 0.0868 - accuracy: 0.9682 - val_loss: 1.4969 - val_accuracy: 0.6532\n",
      "Epoch 78/100\n",
      "35/35 [==============================] - 0s 8ms/step - loss: 0.0946 - accuracy: 0.9696 - val_loss: 1.3610 - val_accuracy: 0.7225\n",
      "Epoch 79/100\n",
      "35/35 [==============================] - 0s 8ms/step - loss: 0.0614 - accuracy: 0.9797 - val_loss: 1.2744 - val_accuracy: 0.7168\n",
      "Epoch 80/100\n",
      "35/35 [==============================] - 0s 8ms/step - loss: 0.0790 - accuracy: 0.9783 - val_loss: 1.3063 - val_accuracy: 0.6821\n",
      "Epoch 81/100\n",
      "35/35 [==============================] - 0s 8ms/step - loss: 0.0725 - accuracy: 0.9696 - val_loss: 1.4547 - val_accuracy: 0.6705\n",
      "Epoch 82/100\n",
      "35/35 [==============================] - 0s 8ms/step - loss: 0.0592 - accuracy: 0.9812 - val_loss: 1.5103 - val_accuracy: 0.6763\n",
      "Epoch 83/100\n",
      "35/35 [==============================] - 0s 8ms/step - loss: 0.0385 - accuracy: 0.9884 - val_loss: 1.3929 - val_accuracy: 0.6647\n",
      "Epoch 84/100\n",
      "35/35 [==============================] - 0s 8ms/step - loss: 0.0873 - accuracy: 0.9768 - val_loss: 1.3871 - val_accuracy: 0.6069\n",
      "Epoch 85/100\n",
      "35/35 [==============================] - 0s 8ms/step - loss: 0.0754 - accuracy: 0.9797 - val_loss: 1.5583 - val_accuracy: 0.6474\n",
      "Epoch 86/100\n",
      "35/35 [==============================] - 0s 8ms/step - loss: 0.0509 - accuracy: 0.9841 - val_loss: 1.4055 - val_accuracy: 0.7225\n",
      "Epoch 87/100\n",
      "35/35 [==============================] - 0s 8ms/step - loss: 0.0409 - accuracy: 0.9826 - val_loss: 1.6689 - val_accuracy: 0.6705\n",
      "Epoch 88/100\n",
      "35/35 [==============================] - 0s 8ms/step - loss: 0.0827 - accuracy: 0.9725 - val_loss: 1.3293 - val_accuracy: 0.6936\n",
      "Epoch 89/100\n",
      "35/35 [==============================] - 0s 8ms/step - loss: 0.0621 - accuracy: 0.9797 - val_loss: 1.4497 - val_accuracy: 0.6879\n",
      "Epoch 90/100\n",
      "35/35 [==============================] - 0s 8ms/step - loss: 0.0848 - accuracy: 0.9725 - val_loss: 1.3812 - val_accuracy: 0.6879\n",
      "Epoch 91/100\n",
      "35/35 [==============================] - 0s 8ms/step - loss: 0.0476 - accuracy: 0.9812 - val_loss: 1.5755 - val_accuracy: 0.6879\n",
      "Epoch 92/100\n",
      "35/35 [==============================] - 0s 8ms/step - loss: 0.0666 - accuracy: 0.9826 - val_loss: 1.4537 - val_accuracy: 0.6705\n",
      "Epoch 93/100\n",
      "35/35 [==============================] - 0s 8ms/step - loss: 0.0467 - accuracy: 0.9826 - val_loss: 1.5075 - val_accuracy: 0.6879\n",
      "Epoch 94/100\n",
      "35/35 [==============================] - 0s 11ms/step - loss: 0.0337 - accuracy: 0.9855 - val_loss: 1.7168 - val_accuracy: 0.6994\n",
      "Epoch 95/100\n",
      "35/35 [==============================] - 0s 10ms/step - loss: 0.0395 - accuracy: 0.9855 - val_loss: 1.6620 - val_accuracy: 0.6821\n",
      "Epoch 96/100\n",
      "35/35 [==============================] - 0s 9ms/step - loss: 0.0742 - accuracy: 0.9768 - val_loss: 1.9528 - val_accuracy: 0.6647\n",
      "Epoch 97/100\n",
      "35/35 [==============================] - 0s 11ms/step - loss: 0.0489 - accuracy: 0.9797 - val_loss: 1.6838 - val_accuracy: 0.6705\n",
      "Epoch 98/100\n",
      "35/35 [==============================] - 0s 8ms/step - loss: 0.0780 - accuracy: 0.9653 - val_loss: 1.4476 - val_accuracy: 0.6879\n",
      "Epoch 99/100\n",
      "35/35 [==============================] - 0s 8ms/step - loss: 0.0451 - accuracy: 0.9884 - val_loss: 1.5499 - val_accuracy: 0.6647\n",
      "Epoch 100/100\n",
      "35/35 [==============================] - 0s 8ms/step - loss: 0.0446 - accuracy: 0.9797 - val_loss: 1.5658 - val_accuracy: 0.7110\n"
     ]
    }
   ],
   "source": [
    "history = model.fit(X_train_new, y_train_CNN_Sp,\n",
    "                    batch_size=20,\n",
    "                    validation_data=(X_val_new, y_val_CNN_Sp),\n",
    "                    epochs=100)"
   ]
  },
  {
   "cell_type": "code",
   "execution_count": 38,
   "metadata": {},
   "outputs": [
    {
     "name": "stdout",
     "output_type": "stream",
     "text": [
      "Model: \"sequential\"\n",
      "_________________________________________________________________\n",
      "Layer (type)                 Output Shape              Param #   \n",
      "=================================================================\n",
      "conv2d (Conv2D)              (None, 1, 126, 32)        320       \n",
      "_________________________________________________________________\n",
      "conv2d_1 (Conv2D)            (None, 1, 124, 32)        3104      \n",
      "_________________________________________________________________\n",
      "max_pooling2d (MaxPooling2D) (None, 1, 62, 32)         0         \n",
      "_________________________________________________________________\n",
      "conv2d_2 (Conv2D)            (None, 1, 62, 64)         6208      \n",
      "_________________________________________________________________\n",
      "max_pooling2d_1 (MaxPooling2 (None, 1, 31, 64)         0         \n",
      "_________________________________________________________________\n",
      "dropout (Dropout)            (None, 1, 31, 64)         0         \n",
      "_________________________________________________________________\n",
      "conv2d_3 (Conv2D)            (None, 1, 31, 64)         12352     \n",
      "_________________________________________________________________\n",
      "max_pooling2d_2 (MaxPooling2 (None, 1, 16, 64)         0         \n",
      "_________________________________________________________________\n",
      "dropout_1 (Dropout)          (None, 1, 16, 64)         0         \n",
      "_________________________________________________________________\n",
      "conv2d_4 (Conv2D)            (None, 1, 16, 128)        24704     \n",
      "_________________________________________________________________\n",
      "flatten (Flatten)            (None, 2048)              0         \n",
      "_________________________________________________________________\n",
      "dense (Dense)                (None, 64)                131136    \n",
      "_________________________________________________________________\n",
      "dropout_2 (Dropout)          (None, 64)                0         \n",
      "_________________________________________________________________\n",
      "dense_1 (Dense)              (None, 32)                2080      \n",
      "_________________________________________________________________\n",
      "dense_2 (Dense)              (None, 5)                 165       \n",
      "=================================================================\n",
      "Total params: 180,069\n",
      "Trainable params: 180,069\n",
      "Non-trainable params: 0\n",
      "_________________________________________________________________\n"
     ]
    }
   ],
   "source": [
    "model.summary()"
   ]
  },
  {
   "cell_type": "code",
   "execution_count": 39,
   "metadata": {},
   "outputs": [
    {
     "name": "stdout",
     "output_type": "stream",
     "text": [
      "3/3 [==============================] - 0s 2ms/step - loss: 1.5516 - accuracy: 0.7396\n",
      "Test loss: 1.5516042709350586\n",
      "Test accuracy: 0.7395833134651184\n"
     ]
    }
   ],
   "source": [
    "score = model.evaluate(X_test_new, y_test_CNN_Sp)\n",
    "\n",
    "print('Test loss:', score[0])\n",
    "print('Test accuracy:', score[1])"
   ]
  },
  {
   "cell_type": "markdown",
   "metadata": {},
   "source": [
    "As expected, CNN had a better performance compared to othe models. The reason for this could be the nature of the data, audio, that I was dealing with."
   ]
  },
  {
   "cell_type": "code",
   "execution_count": 40,
   "metadata": {
    "scrolled": true
   },
   "outputs": [
    {
     "data": {
      "image/png": "[encoded data removed]",
      "text/plain": [
       "<Figure size 864x576 with 1 Axes>"
      ]
     },
     "metadata": {
      "needs_background": "light"
     },
     "output_type": "display_data"
    }
   ],
   "source": [
    "# Check the train accuracy and validation accuracy over epochs.\n",
    "\n",
    "train_accuracy = history.history['accuracy']\n",
    "val_accuracy = history.history['val_accuracy']\n",
    "# Set figure size.\n",
    "plt.figure(figsize=(12, 8))\n",
    "# Generate line plot of training, testing loss over epochs.\n",
    "plt.plot(train_accuracy, label='Training Accuracy', color='#185fad')\n",
    "plt.plot(val_accuracy, label='Validation Accuracy', color='orange')\n",
    "# Set title\n",
    "plt.title('Training and Validation Accuracy by Epoch', fontsize = 25)\n",
    "plt.xlabel('Epoch', fontsize = 18)\n",
    "plt.ylabel('Accuracy', fontsize = 18)\n",
    "plt.xticks(range(0,100,5), range(0,100,5))\n",
    "plt.legend(fontsize = 18);"
   ]
  },
  {
   "cell_type": "markdown",
   "metadata": {},
   "source": [
    "As expected, CNN had a very good performance compared to the others. Behind the scenes, I have tried LeNet and VGG architectures and found that the architecture above works better."
   ]
  },
  {
   "cell_type": "markdown",
   "metadata": {},
   "source": [
    "I chose small kernel size for 2 reasons:\n",
    "    - The size of the data is not big\n",
    "    - I wanted to collect as much as local information as possible."
   ]
  },
  {
   "cell_type": "markdown",
   "metadata": {},
   "source": [
    "As we can, the CNN is trained after 35 Epochs."
   ]
  },
  {
   "cell_type": "code",
   "execution_count": 41,
   "metadata": {},
   "outputs": [],
   "source": [
    "Y_pred = model.predict(X_test_new)"
   ]
  },
  {
   "cell_type": "code",
   "execution_count": 44,
   "metadata": {},
   "outputs": [],
   "source": [
    "matrix = confusion_matrix(y_test_CNN_Sp.values.argmax(axis=1), Y_pred.argmax(axis=1))"
   ]
  },
  {
   "cell_type": "code",
   "execution_count": 45,
   "metadata": {},
   "outputs": [
    {
     "data": {
      "text/plain": [
       "array([[15,  1,  0,  2,  1],\n",
       "       [ 0, 20,  0,  0,  0],\n",
       "       [ 0,  1, 13,  3,  2],\n",
       "       [ 2,  0,  3, 14,  0],\n",
       "       [ 0,  6,  2,  2,  9]])"
      ]
     },
     "execution_count": 45,
     "metadata": {},
     "output_type": "execute_result"
    }
   ],
   "source": [
    "matrix"
   ]
  },
  {
   "cell_type": "code",
   "execution_count": 46,
   "metadata": {},
   "outputs": [],
   "source": [
    " display_labels=['Angry', 'Calm', 'Fearful', 'Happy','Sad']"
   ]
  },
  {
   "cell_type": "code",
   "execution_count": 122,
   "metadata": {},
   "outputs": [
    {
     "data": {
      "image/png": "[encoded data removed]",
      "text/plain": [
       "<Figure size 720x720 with 2 Axes>"
      ]
     },
     "metadata": {
      "needs_background": "light"
     },
     "output_type": "display_data"
    }
   ],
   "source": [
    "disp_t= ConfusionMatrixDisplay(confusion_matrix=matrix,\n",
    "                                  display_labels=['Angry', 'Calm', 'Fearful', 'Happy','Sad'])\n",
    "fig, ax2 = plt.subplots(figsize=(10, 10))\n",
    "ax2.set_title('Confusion Matrix for CNN')\n",
    "    \n",
    "disp = disp_t.plot(xticks_rotation='vertical', ax=ax2, cmap='BuGn')\n",
    "plt.show()"
   ]
  },
  {
   "cell_type": "markdown",
   "metadata": {},
   "source": [
    "Overall, the CNN model was successful at predicting most of the emotions except `Sad` emotion."
   ]
  },
  {
   "cell_type": "markdown",
   "metadata": {},
   "source": [
    "Comparing the results of the different models and their power of prediction:\n",
    "\n",
    "KNN: had the best prediction for __Fearful__\n",
    "\n",
    "SVM: had the best prediction for __Angry__ and __Sad__\n",
    "\n",
    "CNN: had the best prediction for __Calm__ and __Happy__\n"
   ]
  },
  {
   "cell_type": "markdown",
   "metadata": {},
   "source": [
    "Based on the above findings, an ensemble method  might help improve the prediction. If I had more time, I would built an ensemble model with different weights.\n",
    "    "
   ]
  },
  {
   "cell_type": "markdown",
   "metadata": {},
   "source": [
    "Just to have an overview:"
   ]
  },
  {
   "cell_type": "code",
   "execution_count": 177,
   "metadata": {},
   "outputs": [],
   "source": [
    "Test_Accuracy =[0.46, 0.56, 0.65, 0.68, 0.74]"
   ]
  },
  {
   "cell_type": "code",
   "execution_count": 178,
   "metadata": {},
   "outputs": [],
   "source": [
    "Model = ['DT', 'Log', 'KNN', 'SVM', 'CNN' ]"
   ]
  },
  {
   "cell_type": "code",
   "execution_count": 179,
   "metadata": {},
   "outputs": [
    {
     "data": {
      "image/png": "[encoded data removed]",
      "text/plain": [
       "<Figure size 432x288 with 1 Axes>"
      ]
     },
     "metadata": {
      "needs_background": "light"
     },
     "output_type": "display_data"
    }
   ],
   "source": [
    "plt.figure()\n",
    "plt.bar(Model,Test_Accuracy )\n",
    "plt.xlabel('Model')\n",
    "plt.ylabel('Test Accuracy')\n",
    "plt.show()"
   ]
  },
  {
   "cell_type": "markdown",
   "metadata": {},
   "source": [
    "### 3.3 Including song files"
   ]
  },
  {
   "cell_type": "markdown",
   "metadata": {},
   "source": [
    "After doing the modeling with speech audio files, I wanted to see how a model that was trained on speech audio would perform on predicting the emotion of song files."
   ]
  },
  {
   "cell_type": "code",
   "execution_count": null,
   "metadata": {},
   "outputs": [],
   "source": [
    "First I need to split the song dataset into test and validation set"
   ]
  },
  {
   "cell_type": "code",
   "execution_count": null,
   "metadata": {},
   "outputs": [],
   "source": []
  },
  {
   "cell_type": "code",
   "execution_count": 147,
   "metadata": {},
   "outputs": [],
   "source": [
    "X_test_CNN_So_ss = features_song_CNN.copy()"
   ]
  },
  {
   "cell_type": "code",
   "execution_count": 148,
   "metadata": {},
   "outputs": [],
   "source": [
    "# scaling the CNN feature for song audios:\n",
    "# transform the song features with the same scaling function:\n",
    "\n",
    "for i in range (0,np.shape(X_train_CNN_Sp)[1]):\n",
    "\n",
    "\n",
    "    X_test_CNN_So_ss[i] = ss_CNN.transform(features_song_CNN[i].T).T"
   ]
  },
  {
   "cell_type": "code",
   "execution_count": 149,
   "metadata": {},
   "outputs": [],
   "source": [
    "X_test_new_So = np.expand_dims(np.moveaxis(np.array(X_test_CNN_So_ss), 1, 2), 1)"
   ]
  },
  {
   "cell_type": "code",
   "execution_count": 154,
   "metadata": {},
   "outputs": [
    {
     "name": "stdout",
     "output_type": "stream",
     "text": [
      "29/29 [==============================] - 0s 3ms/step - loss: 8.0947 - accuracy: 0.3630\n",
      "Test loss: 8.094658851623535\n",
      "Test accuracy: 0.36304348707199097\n"
     ]
    }
   ],
   "source": [
    "score = model.evaluate(X_test_new_So, y_So)\n",
    "\n",
    "print('Test loss:', score[0])\n",
    "print('Test accuracy:', score[1])"
   ]
  },
  {
   "cell_type": "markdown",
   "metadata": {},
   "source": [
    "Although, The model trained and validated by Speech audios performed better than guessing but did poorly on predicting the emotion of song files. I wanted to see if there's an emotion that the model predicts it the best or the worst."
   ]
  },
  {
   "cell_type": "code",
   "execution_count": 150,
   "metadata": {},
   "outputs": [],
   "source": [
    "Y_pred_So = model.predict(X_test_new_So)"
   ]
  },
  {
   "cell_type": "code",
   "execution_count": 151,
   "metadata": {},
   "outputs": [],
   "source": [
    "matrix_So = confusion_matrix(y_So.values.argmax(axis=1), Y_pred_So.argmax(axis=1))"
   ]
  },
  {
   "cell_type": "code",
   "execution_count": 155,
   "metadata": {},
   "outputs": [
    {
     "data": {
      "image/png": "[encoded data removed]",
      "text/plain": [
       "<Figure size 720x720 with 2 Axes>"
      ]
     },
     "metadata": {
      "needs_background": "light"
     },
     "output_type": "display_data"
    }
   ],
   "source": [
    "disp_S= ConfusionMatrixDisplay(confusion_matrix=matrix_So,\n",
    "                                  display_labels=['Angry', 'Calm', 'Fearful', 'Happy','Sad'])\n",
    "fig, ax2 = plt.subplots(figsize=(10, 10))\n",
    "ax2.set_title('Confusion Matrix for CNN_Song')\n",
    "    \n",
    "disp = disp_S.plot(xticks_rotation='vertical', ax=ax2, cmap='BuGn')\n",
    "plt.show()"
   ]
  },
  {
   "cell_type": "markdown",
   "metadata": {},
   "source": [
    "It seems that the model had more trouble recognizing the `Sad` and `Calm` emotions compared to the rest of them. I only changed the test set for the above evaluation. Now I wanted to see how test accuracy will change if I pick the validation set from song features."
   ]
  },
  {
   "cell_type": "code",
   "execution_count": 160,
   "metadata": {},
   "outputs": [],
   "source": [
    "# doing train, test split for flattened features:\n",
    "\n",
    "X_val_CNN_So, X_test_CNN_So, y_val_CNN_So, y_test_CNN_So = train_test_split(features_song_CNN, y_So, test_size=0.5, random_state = 20, stratify = y_So)"
   ]
  },
  {
   "cell_type": "code",
   "execution_count": 162,
   "metadata": {},
   "outputs": [],
   "source": [
    "# scaling the data:\n",
    "\n",
    "for i in range (0,np.shape(X_train_CNN_Sp)[1]):\n",
    "\n",
    "\n",
    "    X_test_CNN_So[i] = ss_CNN.transform( X_test_CNN_So[i].T).T\n",
    "    X_val_CNN_So[i] = ss_CNN.transform( X_val_CNN_So[i].T).T"
   ]
  },
  {
   "cell_type": "code",
   "execution_count": 166,
   "metadata": {},
   "outputs": [],
   "source": [
    "# Expanding the dimensions of Xs:\n",
    "\n",
    "X_test_new_So = np.expand_dims(np.moveaxis(np.array(X_test_CNN_So), 1, 2), 1)\n",
    "X_val_new_So = np.expand_dims(np.moveaxis(np.array(X_val_CNN_So), 1, 2), 1)"
   ]
  },
  {
   "cell_type": "code",
   "execution_count": 164,
   "metadata": {},
   "outputs": [],
   "source": [
    "\n",
    "model_S = Sequential()\n",
    "\n",
    "model_S.add(Conv2D(filters=32, kernel_size=(1, 3), activation='relu', input_shape=( 1,128,3)))\n",
    "model_S.add(Conv2D(filters=32, kernel_size=(1, 3), activation='relu', input_shape=( 1,128,3)))\n",
    "model_S.add(MaxPooling2D(pool_size=(2, 2), padding = 'same'))\n",
    "\n",
    "model_S.add(Conv2D(filters=64, kernel_size=(1, 3), padding='same',activation='relu'))\n",
    "model_S.add(MaxPooling2D(pool_size=(2, 2), padding='same'))\n",
    "model_S.add(Dropout(0.1))\n",
    "\n",
    "model_S.add(Conv2D(filters=64, kernel_size=(1, 3),padding='same', activation='relu'))\n",
    "model_S.add(MaxPooling2D(pool_size=(2, 2), padding='same'))\n",
    "model_S.add(Dropout(0.25))\n",
    "\n",
    "#model.add(Conv2D(filters=128, kernel_size=(1, 3), padding='same',activation='relu'))\n",
    "#model.add(MaxPooling2D(pool_size=(2, 2), padding='same'))\n",
    "#model.add(Dropout(0.5))\n",
    "\n",
    "model_S.add(Conv2D(filters=128, kernel_size=(1, 3), padding='same',activation='relu'))\n",
    "#model_s.add(MaxPooling2D(pool_size=(2, 2), padding='same'))\n",
    "\n",
    "\n",
    "\n",
    "\n",
    "model_S.add(Flatten())\n",
    "model_S.add(Dense(64, activation='relu'))\n",
    "model_S.add(Dropout(0.2))\n",
    "\n",
    "model_S.add(Dense(32, activation='relu'))\n",
    "#model.add(Dropout(0.5))\n",
    "\n",
    "model_S.add(Dense(5, activation='softmax'))"
   ]
  },
  {
   "cell_type": "code",
   "execution_count": 165,
   "metadata": {},
   "outputs": [],
   "source": [
    "model_S.compile(loss='categorical_crossentropy',\n",
    "                  optimizer='adam',\n",
    "                  metrics=['accuracy'])"
   ]
  },
  {
   "cell_type": "code",
   "execution_count": 167,
   "metadata": {},
   "outputs": [
    {
     "name": "stdout",
     "output_type": "stream",
     "text": [
      "Epoch 1/100\n",
      "35/35 [==============================] - 1s 19ms/step - loss: 0.0385 - accuracy: 0.9855 - val_loss: 6.5321 - val_accuracy: 0.4217\n",
      "Epoch 2/100\n",
      "35/35 [==============================] - 0s 12ms/step - loss: 0.0419 - accuracy: 0.9826 - val_loss: 6.9515 - val_accuracy: 0.4152\n",
      "Epoch 3/100\n",
      "35/35 [==============================] - 0s 10ms/step - loss: 0.0589 - accuracy: 0.9812 - val_loss: 5.5141 - val_accuracy: 0.4217\n",
      "Epoch 4/100\n",
      "35/35 [==============================] - 0s 9ms/step - loss: 0.0359 - accuracy: 0.9826 - val_loss: 6.5098 - val_accuracy: 0.3957\n",
      "Epoch 5/100\n",
      "35/35 [==============================] - 0s 9ms/step - loss: 0.0832 - accuracy: 0.9768 - val_loss: 7.4820 - val_accuracy: 0.3826\n",
      "Epoch 6/100\n",
      "35/35 [==============================] - 0s 8ms/step - loss: 0.0861 - accuracy: 0.9725 - val_loss: 6.8078 - val_accuracy: 0.4043\n",
      "Epoch 7/100\n",
      "35/35 [==============================] - 0s 8ms/step - loss: 0.1188 - accuracy: 0.9667 - val_loss: 7.3783 - val_accuracy: 0.3391\n",
      "Epoch 8/100\n",
      "35/35 [==============================] - 0s 9ms/step - loss: 0.1029 - accuracy: 0.9682 - val_loss: 6.5592 - val_accuracy: 0.3435\n",
      "Epoch 9/100\n",
      "35/35 [==============================] - 0s 9ms/step - loss: 0.0933 - accuracy: 0.9711 - val_loss: 5.9358 - val_accuracy: 0.4022\n",
      "Epoch 10/100\n",
      "35/35 [==============================] - 0s 8ms/step - loss: 0.0652 - accuracy: 0.9768 - val_loss: 6.4313 - val_accuracy: 0.3826\n",
      "Epoch 11/100\n",
      "35/35 [==============================] - 0s 8ms/step - loss: 0.0422 - accuracy: 0.9884 - val_loss: 6.0966 - val_accuracy: 0.3891\n",
      "Epoch 12/100\n",
      "35/35 [==============================] - 0s 8ms/step - loss: 0.0336 - accuracy: 0.9899 - val_loss: 6.9252 - val_accuracy: 0.4109\n",
      "Epoch 13/100\n",
      "35/35 [==============================] - 0s 9ms/step - loss: 0.0718 - accuracy: 0.9754 - val_loss: 6.8804 - val_accuracy: 0.3957\n",
      "Epoch 14/100\n",
      "35/35 [==============================] - 0s 9ms/step - loss: 0.0592 - accuracy: 0.9826 - val_loss: 6.7657 - val_accuracy: 0.3804\n",
      "Epoch 15/100\n",
      "35/35 [==============================] - 0s 8ms/step - loss: 0.0384 - accuracy: 0.9841 - val_loss: 6.8219 - val_accuracy: 0.3804\n",
      "Epoch 16/100\n",
      "35/35 [==============================] - 0s 9ms/step - loss: 0.0385 - accuracy: 0.9870 - val_loss: 6.8556 - val_accuracy: 0.3761\n",
      "Epoch 17/100\n",
      "35/35 [==============================] - 0s 10ms/step - loss: 0.0293 - accuracy: 0.9957 - val_loss: 7.5016 - val_accuracy: 0.3848\n",
      "Epoch 18/100\n",
      "35/35 [==============================] - 0s 12ms/step - loss: 0.0325 - accuracy: 0.9899 - val_loss: 8.2271 - val_accuracy: 0.3717\n",
      "Epoch 19/100\n",
      "35/35 [==============================] - 0s 12ms/step - loss: 0.0592 - accuracy: 0.9870 - val_loss: 7.9327 - val_accuracy: 0.3500\n",
      "Epoch 20/100\n",
      "35/35 [==============================] - 0s 10ms/step - loss: 0.0339 - accuracy: 0.9855 - val_loss: 9.0623 - val_accuracy: 0.3478\n",
      "Epoch 21/100\n",
      "35/35 [==============================] - 0s 8ms/step - loss: 0.0270 - accuracy: 0.9913 - val_loss: 7.9633 - val_accuracy: 0.3848\n",
      "Epoch 22/100\n",
      "35/35 [==============================] - 0s 8ms/step - loss: 0.0323 - accuracy: 0.9899 - val_loss: 7.5114 - val_accuracy: 0.4000\n",
      "Epoch 23/100\n",
      "35/35 [==============================] - 0s 9ms/step - loss: 0.0289 - accuracy: 0.9884 - val_loss: 7.4731 - val_accuracy: 0.4000\n",
      "Epoch 24/100\n",
      "35/35 [==============================] - 0s 9ms/step - loss: 0.0208 - accuracy: 0.9942 - val_loss: 8.9953 - val_accuracy: 0.3826\n",
      "Epoch 25/100\n",
      "35/35 [==============================] - 0s 11ms/step - loss: 0.0427 - accuracy: 0.9884 - val_loss: 10.2059 - val_accuracy: 0.3652\n",
      "Epoch 26/100\n",
      "35/35 [==============================] - 0s 10ms/step - loss: 0.0281 - accuracy: 0.9870 - val_loss: 8.1001 - val_accuracy: 0.3891\n",
      "Epoch 27/100\n",
      "35/35 [==============================] - 0s 9ms/step - loss: 0.0312 - accuracy: 0.9899 - val_loss: 8.3888 - val_accuracy: 0.3761\n",
      "Epoch 28/100\n",
      "35/35 [==============================] - 0s 9ms/step - loss: 0.0945 - accuracy: 0.9696 - val_loss: 9.2681 - val_accuracy: 0.3370\n",
      "Epoch 29/100\n",
      "35/35 [==============================] - 0s 9ms/step - loss: 0.0709 - accuracy: 0.9711 - val_loss: 7.2596 - val_accuracy: 0.3804\n",
      "Epoch 30/100\n",
      "35/35 [==============================] - 0s 9ms/step - loss: 0.0737 - accuracy: 0.9841 - val_loss: 6.4504 - val_accuracy: 0.3783\n",
      "Epoch 31/100\n",
      "35/35 [==============================] - 0s 11ms/step - loss: 0.0497 - accuracy: 0.9797 - val_loss: 8.6542 - val_accuracy: 0.3674\n",
      "Epoch 32/100\n",
      "35/35 [==============================] - 0s 10ms/step - loss: 0.0398 - accuracy: 0.9855 - val_loss: 8.7475 - val_accuracy: 0.3891\n",
      "Epoch 33/100\n",
      "35/35 [==============================] - 0s 8ms/step - loss: 0.0607 - accuracy: 0.9826 - val_loss: 7.0907 - val_accuracy: 0.3674\n",
      "Epoch 34/100\n",
      "35/35 [==============================] - 0s 8ms/step - loss: 0.0243 - accuracy: 0.9928 - val_loss: 6.8560 - val_accuracy: 0.3891\n",
      "Epoch 35/100\n",
      "35/35 [==============================] - 0s 9ms/step - loss: 0.0502 - accuracy: 0.9826 - val_loss: 6.7647 - val_accuracy: 0.3957\n",
      "Epoch 36/100\n",
      "35/35 [==============================] - 0s 10ms/step - loss: 0.0208 - accuracy: 0.9928 - val_loss: 8.3061 - val_accuracy: 0.3717\n",
      "Epoch 37/100\n",
      "35/35 [==============================] - 0s 13ms/step - loss: 0.0476 - accuracy: 0.9841 - val_loss: 7.7430 - val_accuracy: 0.3978\n",
      "Epoch 38/100\n",
      "35/35 [==============================] - 0s 10ms/step - loss: 0.0361 - accuracy: 0.9884 - val_loss: 7.2460 - val_accuracy: 0.3935\n",
      "Epoch 39/100\n",
      "35/35 [==============================] - 0s 12ms/step - loss: 0.0342 - accuracy: 0.9884 - val_loss: 6.9667 - val_accuracy: 0.3739\n",
      "Epoch 40/100\n",
      "35/35 [==============================] - 0s 10ms/step - loss: 0.0220 - accuracy: 0.9942 - val_loss: 8.1984 - val_accuracy: 0.3826\n",
      "Epoch 41/100\n",
      "35/35 [==============================] - 0s 11ms/step - loss: 0.0317 - accuracy: 0.9884 - val_loss: 8.3931 - val_accuracy: 0.3761\n",
      "Epoch 42/100\n",
      "35/35 [==============================] - 0s 9ms/step - loss: 0.0362 - accuracy: 0.9870 - val_loss: 8.7305 - val_accuracy: 0.3696\n",
      "Epoch 43/100\n",
      "35/35 [==============================] - 0s 9ms/step - loss: 0.0381 - accuracy: 0.9855 - val_loss: 9.3723 - val_accuracy: 0.3478\n",
      "Epoch 44/100\n",
      "35/35 [==============================] - 0s 9ms/step - loss: 0.0123 - accuracy: 0.9913 - val_loss: 8.9571 - val_accuracy: 0.3826\n",
      "Epoch 45/100\n",
      "35/35 [==============================] - 0s 9ms/step - loss: 0.0293 - accuracy: 0.9899 - val_loss: 7.6952 - val_accuracy: 0.3978\n",
      "Epoch 46/100\n",
      "35/35 [==============================] - 0s 11ms/step - loss: 0.0501 - accuracy: 0.9841 - val_loss: 7.7649 - val_accuracy: 0.4065\n",
      "Epoch 47/100\n",
      "35/35 [==============================] - 0s 10ms/step - loss: 0.0607 - accuracy: 0.9826 - val_loss: 6.8646 - val_accuracy: 0.4261\n",
      "Epoch 48/100\n",
      "35/35 [==============================] - 0s 10ms/step - loss: 0.0557 - accuracy: 0.9870 - val_loss: 8.0621 - val_accuracy: 0.3587\n",
      "Epoch 49/100\n",
      "35/35 [==============================] - 0s 11ms/step - loss: 0.0673 - accuracy: 0.9768 - val_loss: 7.0808 - val_accuracy: 0.3717\n",
      "Epoch 50/100\n",
      "35/35 [==============================] - 0s 10ms/step - loss: 0.0657 - accuracy: 0.9783 - val_loss: 6.9035 - val_accuracy: 0.3826\n",
      "Epoch 51/100\n",
      "35/35 [==============================] - 0s 11ms/step - loss: 0.0533 - accuracy: 0.9841 - val_loss: 7.9017 - val_accuracy: 0.3804\n",
      "Epoch 52/100\n",
      "35/35 [==============================] - 0s 10ms/step - loss: 0.0766 - accuracy: 0.9740 - val_loss: 6.0318 - val_accuracy: 0.3957\n",
      "Epoch 53/100\n",
      "35/35 [==============================] - 0s 9ms/step - loss: 0.1186 - accuracy: 0.9682 - val_loss: 5.6811 - val_accuracy: 0.3848\n",
      "Epoch 54/100\n",
      "35/35 [==============================] - 0s 11ms/step - loss: 0.0390 - accuracy: 0.9841 - val_loss: 6.0474 - val_accuracy: 0.3804\n",
      "Epoch 55/100\n",
      "35/35 [==============================] - 0s 11ms/step - loss: 0.0441 - accuracy: 0.9884 - val_loss: 5.6791 - val_accuracy: 0.3826\n",
      "Epoch 56/100\n",
      "35/35 [==============================] - 0s 10ms/step - loss: 0.0418 - accuracy: 0.9826 - val_loss: 7.5801 - val_accuracy: 0.3609\n",
      "Epoch 57/100\n",
      "35/35 [==============================] - 0s 11ms/step - loss: 0.0538 - accuracy: 0.9855 - val_loss: 9.4035 - val_accuracy: 0.3217\n",
      "Epoch 58/100\n",
      "35/35 [==============================] - 0s 10ms/step - loss: 0.0748 - accuracy: 0.9812 - val_loss: 6.1207 - val_accuracy: 0.3609\n",
      "Epoch 59/100\n",
      "35/35 [==============================] - 0s 9ms/step - loss: 0.0427 - accuracy: 0.9855 - val_loss: 6.9565 - val_accuracy: 0.3783\n",
      "Epoch 60/100\n",
      "35/35 [==============================] - 0s 11ms/step - loss: 0.0226 - accuracy: 0.9913 - val_loss: 7.4416 - val_accuracy: 0.3587\n",
      "Epoch 61/100\n",
      "35/35 [==============================] - 0s 9ms/step - loss: 0.0668 - accuracy: 0.9797 - val_loss: 7.2300 - val_accuracy: 0.3391\n",
      "Epoch 62/100\n",
      "35/35 [==============================] - 0s 10ms/step - loss: 0.0316 - accuracy: 0.9841 - val_loss: 7.3227 - val_accuracy: 0.3826\n",
      "Epoch 63/100\n",
      "35/35 [==============================] - 0s 11ms/step - loss: 0.0507 - accuracy: 0.9841 - val_loss: 6.3469 - val_accuracy: 0.4043\n",
      "Epoch 64/100\n",
      "35/35 [==============================] - 0s 10ms/step - loss: 0.0271 - accuracy: 0.9913 - val_loss: 7.9079 - val_accuracy: 0.3609\n",
      "Epoch 65/100\n",
      "35/35 [==============================] - 0s 10ms/step - loss: 0.0329 - accuracy: 0.9942 - val_loss: 8.2806 - val_accuracy: 0.3674\n",
      "Epoch 66/100\n",
      "35/35 [==============================] - 0s 9ms/step - loss: 0.0218 - accuracy: 0.9957 - val_loss: 9.6710 - val_accuracy: 0.3283\n",
      "Epoch 67/100\n",
      "35/35 [==============================] - 0s 10ms/step - loss: 0.0105 - accuracy: 0.9971 - val_loss: 9.4418 - val_accuracy: 0.3587\n",
      "Epoch 68/100\n",
      "35/35 [==============================] - 0s 9ms/step - loss: 0.0148 - accuracy: 0.9928 - val_loss: 8.0279 - val_accuracy: 0.3870\n",
      "Epoch 69/100\n",
      "35/35 [==============================] - 0s 11ms/step - loss: 0.0333 - accuracy: 0.9899 - val_loss: 9.1117 - val_accuracy: 0.3783\n",
      "Epoch 70/100\n",
      "35/35 [==============================] - 0s 10ms/step - loss: 0.0446 - accuracy: 0.9841 - val_loss: 7.6110 - val_accuracy: 0.3826\n",
      "Epoch 71/100\n",
      "35/35 [==============================] - 0s 10ms/step - loss: 0.0912 - accuracy: 0.9797 - val_loss: 7.1485 - val_accuracy: 0.3435\n",
      "Epoch 72/100\n",
      "35/35 [==============================] - 0s 11ms/step - loss: 0.0240 - accuracy: 0.9899 - val_loss: 8.7667 - val_accuracy: 0.3435\n",
      "Epoch 73/100\n",
      "35/35 [==============================] - 0s 12ms/step - loss: 0.0663 - accuracy: 0.9783 - val_loss: 8.1907 - val_accuracy: 0.3609\n",
      "Epoch 74/100\n",
      "35/35 [==============================] - 1s 14ms/step - loss: 0.0414 - accuracy: 0.9855 - val_loss: 7.2730 - val_accuracy: 0.4087\n",
      "Epoch 75/100\n",
      "35/35 [==============================] - 0s 11ms/step - loss: 0.0315 - accuracy: 0.9899 - val_loss: 7.1657 - val_accuracy: 0.3674\n",
      "Epoch 76/100\n",
      "35/35 [==============================] - 0s 11ms/step - loss: 0.0444 - accuracy: 0.9884 - val_loss: 9.2070 - val_accuracy: 0.3543\n",
      "Epoch 77/100\n",
      "35/35 [==============================] - 0s 11ms/step - loss: 0.0256 - accuracy: 0.9899 - val_loss: 8.9783 - val_accuracy: 0.3478\n",
      "Epoch 78/100\n",
      "35/35 [==============================] - 0s 11ms/step - loss: 0.0299 - accuracy: 0.9855 - val_loss: 8.9077 - val_accuracy: 0.3543\n",
      "Epoch 79/100\n",
      "35/35 [==============================] - 0s 10ms/step - loss: 0.0133 - accuracy: 0.9957 - val_loss: 8.7844 - val_accuracy: 0.3435\n",
      "Epoch 80/100\n",
      "35/35 [==============================] - 0s 12ms/step - loss: 0.0190 - accuracy: 0.9899 - val_loss: 8.5712 - val_accuracy: 0.3304\n",
      "Epoch 81/100\n",
      "35/35 [==============================] - 0s 11ms/step - loss: 0.0136 - accuracy: 0.9957 - val_loss: 9.4811 - val_accuracy: 0.3457\n",
      "Epoch 82/100\n",
      "35/35 [==============================] - 0s 11ms/step - loss: 0.0377 - accuracy: 0.9870 - val_loss: 9.7140 - val_accuracy: 0.3304\n",
      "Epoch 83/100\n",
      "35/35 [==============================] - 0s 11ms/step - loss: 0.0325 - accuracy: 0.9884 - val_loss: 9.2496 - val_accuracy: 0.3435\n",
      "Epoch 84/100\n",
      "35/35 [==============================] - 0s 10ms/step - loss: 0.0302 - accuracy: 0.9899 - val_loss: 9.5899 - val_accuracy: 0.3565\n",
      "Epoch 85/100\n",
      "35/35 [==============================] - 0s 11ms/step - loss: 0.0225 - accuracy: 0.9899 - val_loss: 9.3227 - val_accuracy: 0.3457\n",
      "Epoch 86/100\n",
      "35/35 [==============================] - 0s 12ms/step - loss: 0.0354 - accuracy: 0.9855 - val_loss: 10.4789 - val_accuracy: 0.3609\n",
      "Epoch 87/100\n",
      "35/35 [==============================] - 0s 10ms/step - loss: 0.0342 - accuracy: 0.9870 - val_loss: 11.8727 - val_accuracy: 0.3152\n",
      "Epoch 88/100\n",
      "35/35 [==============================] - 0s 9ms/step - loss: 0.0450 - accuracy: 0.9855 - val_loss: 9.6402 - val_accuracy: 0.3565\n",
      "Epoch 89/100\n",
      "35/35 [==============================] - 0s 10ms/step - loss: 0.0520 - accuracy: 0.9783 - val_loss: 8.6223 - val_accuracy: 0.3565\n",
      "Epoch 90/100\n",
      "35/35 [==============================] - 0s 9ms/step - loss: 0.0741 - accuracy: 0.9725 - val_loss: 9.2496 - val_accuracy: 0.3500\n",
      "Epoch 91/100\n",
      "35/35 [==============================] - 0s 9ms/step - loss: 0.0295 - accuracy: 0.9899 - val_loss: 8.9869 - val_accuracy: 0.3435\n",
      "Epoch 92/100\n",
      "35/35 [==============================] - 0s 10ms/step - loss: 0.0392 - accuracy: 0.9826 - val_loss: 7.0127 - val_accuracy: 0.3826\n",
      "Epoch 93/100\n",
      "35/35 [==============================] - 0s 9ms/step - loss: 0.0242 - accuracy: 0.9884 - val_loss: 7.9258 - val_accuracy: 0.3826\n",
      "Epoch 94/100\n",
      "35/35 [==============================] - 0s 9ms/step - loss: 0.0332 - accuracy: 0.9870 - val_loss: 9.0617 - val_accuracy: 0.3587\n",
      "Epoch 95/100\n",
      "35/35 [==============================] - 0s 11ms/step - loss: 0.0632 - accuracy: 0.9884 - val_loss: 8.9342 - val_accuracy: 0.3652\n",
      "Epoch 96/100\n",
      "35/35 [==============================] - 0s 10ms/step - loss: 0.0513 - accuracy: 0.9899 - val_loss: 8.6345 - val_accuracy: 0.3630\n",
      "Epoch 97/100\n",
      "35/35 [==============================] - 0s 12ms/step - loss: 0.0551 - accuracy: 0.9797 - val_loss: 7.7275 - val_accuracy: 0.3717\n",
      "Epoch 98/100\n",
      "35/35 [==============================] - 0s 11ms/step - loss: 0.0506 - accuracy: 0.9870 - val_loss: 8.9371 - val_accuracy: 0.3478\n",
      "Epoch 99/100\n",
      "35/35 [==============================] - 0s 10ms/step - loss: 0.0344 - accuracy: 0.9899 - val_loss: 9.0166 - val_accuracy: 0.3348\n",
      "Epoch 100/100\n",
      "35/35 [==============================] - 0s 9ms/step - loss: 0.0152 - accuracy: 0.9942 - val_loss: 8.5866 - val_accuracy: 0.3696\n"
     ]
    }
   ],
   "source": [
    "history = model.fit(X_train_new, y_train_CNN_Sp,\n",
    "                    batch_size=20,\n",
    "                    validation_data=(X_val_new_So , y_val_CNN_So),\n",
    "                    epochs=100)"
   ]
  },
  {
   "cell_type": "code",
   "execution_count": 169,
   "metadata": {},
   "outputs": [
    {
     "name": "stdout",
     "output_type": "stream",
     "text": [
      "15/15 [==============================] - 0s 2ms/step - loss: 1.9266 - accuracy: 0.2000\n",
      "Test loss: 1.9265642166137695\n",
      "Test accuracy: 0.20000000298023224\n"
     ]
    }
   ],
   "source": [
    "score = model_S.evaluate(X_test_new_So, y_test_CNN_So)\n",
    "\n",
    "print('Test loss:', score[0])\n",
    "print('Test accuracy:', score[1])"
   ]
  },
  {
   "cell_type": "markdown",
   "metadata": {},
   "source": [
    "I expected that having song validation in the modeling process would improve the test accuracy of the model but apparently It does not. It might need a deeper investigation to see the cause of low accuracy."
   ]
  },
  {
   "cell_type": "markdown",
   "metadata": {},
   "source": [
    "### 4.Conclusion"
   ]
  },
  {
   "cell_type": "markdown",
   "metadata": {},
   "source": [
    "After constructing various models, I got the better performance for the emotion recognition task with CNN model. The model reached 74% accuracy for an unseen set of data. The model would have performed better with more data since after decreasing the test data size and allocating more data for training, the model trained better and had a better performance."
   ]
  },
  {
   "cell_type": "markdown",
   "metadata": {},
   "source": [
    "The project can be extended to integrate with the robot to help it to have a better understanding of the mood that the corresponding human is in, which will help it to have a better conversation as well as it can be integrated with various music applications to recommend songs to its users according to his/her emotions, it can also be used in various online shopping applications such as Amazon to improve the product recommendation for its users. "
   ]
  },
  {
   "cell_type": "code",
   "execution_count": null,
   "metadata": {},
   "outputs": [],
   "source": []
  }
 ],
 "metadata": {
  "kernelspec": {
   "display_name": "deeplearning2",
   "language": "python",
   "name": "deeplearning2"
  },
  "language_info": {
   "codemirror_mode": {
    "name": "ipython",
    "version": 3
   },
   "file_extension": ".py",
   "mimetype": "text/x-python",
   "name": "python",
   "nbconvert_exporter": "python",
   "pygments_lexer": "ipython3",
   "version": "3.8.2"
  }
 },
 "nbformat": 4,
 "nbformat_minor": 4
}
